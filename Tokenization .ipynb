{
  "nbformat": 4,
  "nbformat_minor": 0,
  "metadata": {
    "colab": {
      "provenance": [],
      "authorship_tag": "ABX9TyOd4kEdEFqplooK+bRzZCyT",
      "include_colab_link": true
    },
    "kernelspec": {
      "name": "python3",
      "display_name": "Python 3"
    },
    "language_info": {
      "name": "python"
    }
  },
  "cells": [
    {
      "cell_type": "markdown",
      "metadata": {
        "id": "view-in-github",
        "colab_type": "text"
      },
      "source": [
        "<a href=\"https://colab.research.google.com/github/Mahdi-Miri/Token-Python/blob/main/Tokenization%20.ipynb\" target=\"_parent\"><img src=\"https://colab.research.google.com/assets/colab-badge.svg\" alt=\"Open In Colab\"/></a>"
      ]
    },
    {
      "cell_type": "code",
      "source": [
        "!pip install lorem"
      ],
      "metadata": {
        "colab": {
          "base_uri": "https://localhost:8080/"
        },
        "id": "j5z4yBgzthaW",
        "outputId": "0f384168-b544-4a69-8fd6-ffbef45e8a24"
      },
      "execution_count": 1,
      "outputs": [
        {
          "output_type": "stream",
          "name": "stdout",
          "text": [
            "Collecting lorem\n",
            "  Downloading lorem-0.1.1-py3-none-any.whl.metadata (2.3 kB)\n",
            "Downloading lorem-0.1.1-py3-none-any.whl (5.0 kB)\n",
            "Installing collected packages: lorem\n",
            "Successfully installed lorem-0.1.1\n"
          ]
        }
      ]
    },
    {
      "cell_type": "code",
      "execution_count": 2,
      "metadata": {
        "id": "hAyu-NlnqaRp"
      },
      "outputs": [],
      "source": [
        "import nltk\n",
        "import lorem"
      ]
    },
    {
      "cell_type": "code",
      "source": [
        "nltk.download('punkt')\n"
      ],
      "metadata": {
        "colab": {
          "base_uri": "https://localhost:8080/"
        },
        "id": "wXBGgITTujT4",
        "outputId": "cbf62073-49d9-4022-feea-6935cb872cfd"
      },
      "execution_count": 3,
      "outputs": [
        {
          "output_type": "stream",
          "name": "stderr",
          "text": [
            "[nltk_data] Downloading package punkt to /root/nltk_data...\n",
            "[nltk_data]   Unzipping tokenizers/punkt.zip.\n"
          ]
        },
        {
          "output_type": "execute_result",
          "data": {
            "text/plain": [
              "True"
            ]
          },
          "metadata": {},
          "execution_count": 3
        }
      ]
    },
    {
      "cell_type": "code",
      "source": [
        "sample_text = lorem.paragraph()"
      ],
      "metadata": {
        "id": "EcPOB_wUs9Wt"
      },
      "execution_count": 4,
      "outputs": []
    },
    {
      "cell_type": "code",
      "source": [
        "sample_text"
      ],
      "metadata": {
        "colab": {
          "base_uri": "https://localhost:8080/",
          "height": 109
        },
        "id": "lbSuUflRttEI",
        "outputId": "231160ef-cc97-4b74-96a3-9737b783ce8c"
      },
      "execution_count": 5,
      "outputs": [
        {
          "output_type": "execute_result",
          "data": {
            "text/plain": [
              "'Adipisci non sed dolorem adipisci. Adipisci neque quiquia magnam tempora labore ut. Modi aliquam dolore quaerat. Quisquam aliquam modi eius neque dolore neque dolor. Eius neque tempora neque numquam magnam. Eius consectetur non ut velit non modi. Neque consectetur quaerat dolor velit. Sed amet sed dolore ut etincidunt. Sed dolor modi tempora quisquam magnam neque numquam. Dolore velit sed numquam labore sit magnam.'"
            ],
            "application/vnd.google.colaboratory.intrinsic+json": {
              "type": "string"
            }
          },
          "metadata": {},
          "execution_count": 5
        }
      ]
    },
    {
      "cell_type": "code",
      "source": [
        "sentences = nltk.sent_tokenize(sample_text)"
      ],
      "metadata": {
        "id": "w0ncYhd0tuQJ"
      },
      "execution_count": 6,
      "outputs": []
    },
    {
      "cell_type": "code",
      "source": [
        "sentences"
      ],
      "metadata": {
        "colab": {
          "base_uri": "https://localhost:8080/"
        },
        "id": "93Z4wfW1uWhr",
        "outputId": "8f335595-adbc-4ea9-abc8-f904c9b89de3"
      },
      "execution_count": 7,
      "outputs": [
        {
          "output_type": "execute_result",
          "data": {
            "text/plain": [
              "['Adipisci non sed dolorem adipisci.',\n",
              " 'Adipisci neque quiquia magnam tempora labore ut.',\n",
              " 'Modi aliquam dolore quaerat.',\n",
              " 'Quisquam aliquam modi eius neque dolore neque dolor.',\n",
              " 'Eius neque tempora neque numquam magnam.',\n",
              " 'Eius consectetur non ut velit non modi.',\n",
              " 'Neque consectetur quaerat dolor velit.',\n",
              " 'Sed amet sed dolore ut etincidunt.',\n",
              " 'Sed dolor modi tempora quisquam magnam neque numquam.',\n",
              " 'Dolore velit sed numquam labore sit magnam.']"
            ]
          },
          "metadata": {},
          "execution_count": 7
        }
      ]
    },
    {
      "cell_type": "code",
      "source": [
        "words = nltk.word_tokenize(sample_text)"
      ],
      "metadata": {
        "id": "7JWrq6qUunmw"
      },
      "execution_count": 8,
      "outputs": []
    },
    {
      "cell_type": "code",
      "source": [
        "words"
      ],
      "metadata": {
        "colab": {
          "base_uri": "https://localhost:8080/"
        },
        "id": "0c4sCsv7vBc8",
        "outputId": "4889b1a2-b505-4b0e-a7f8-eef1f90ca1f3"
      },
      "execution_count": 9,
      "outputs": [
        {
          "output_type": "execute_result",
          "data": {
            "text/plain": [
              "['Adipisci',\n",
              " 'non',\n",
              " 'sed',\n",
              " 'dolorem',\n",
              " 'adipisci',\n",
              " '.',\n",
              " 'Adipisci',\n",
              " 'neque',\n",
              " 'quiquia',\n",
              " 'magnam',\n",
              " 'tempora',\n",
              " 'labore',\n",
              " 'ut',\n",
              " '.',\n",
              " 'Modi',\n",
              " 'aliquam',\n",
              " 'dolore',\n",
              " 'quaerat',\n",
              " '.',\n",
              " 'Quisquam',\n",
              " 'aliquam',\n",
              " 'modi',\n",
              " 'eius',\n",
              " 'neque',\n",
              " 'dolore',\n",
              " 'neque',\n",
              " 'dolor',\n",
              " '.',\n",
              " 'Eius',\n",
              " 'neque',\n",
              " 'tempora',\n",
              " 'neque',\n",
              " 'numquam',\n",
              " 'magnam',\n",
              " '.',\n",
              " 'Eius',\n",
              " 'consectetur',\n",
              " 'non',\n",
              " 'ut',\n",
              " 'velit',\n",
              " 'non',\n",
              " 'modi',\n",
              " '.',\n",
              " 'Neque',\n",
              " 'consectetur',\n",
              " 'quaerat',\n",
              " 'dolor',\n",
              " 'velit',\n",
              " '.',\n",
              " 'Sed',\n",
              " 'amet',\n",
              " 'sed',\n",
              " 'dolore',\n",
              " 'ut',\n",
              " 'etincidunt',\n",
              " '.',\n",
              " 'Sed',\n",
              " 'dolor',\n",
              " 'modi',\n",
              " 'tempora',\n",
              " 'quisquam',\n",
              " 'magnam',\n",
              " 'neque',\n",
              " 'numquam',\n",
              " '.',\n",
              " 'Dolore',\n",
              " 'velit',\n",
              " 'sed',\n",
              " 'numquam',\n",
              " 'labore',\n",
              " 'sit',\n",
              " 'magnam',\n",
              " '.']"
            ]
          },
          "metadata": {},
          "execution_count": 9
        }
      ]
    },
    {
      "cell_type": "markdown",
      "source": [
        "# Stemming And Lemmatization"
      ],
      "metadata": {
        "id": "ErBmIkqh2YsB"
      }
    },
    {
      "cell_type": "code",
      "source": [
        "from nltk.stem.porter import *"
      ],
      "metadata": {
        "id": "6LN7W9c1vCHd"
      },
      "execution_count": 10,
      "outputs": []
    },
    {
      "cell_type": "code",
      "source": [
        "tokens = ['connection','connection', 'connect', 'connected','disconnect','lovely','friends','did']"
      ],
      "metadata": {
        "id": "h1iS-QR63Fqo"
      },
      "execution_count": 25,
      "outputs": []
    },
    {
      "cell_type": "code",
      "source": [
        "stemmer = PorterStemmer()"
      ],
      "metadata": {
        "id": "lZg-vU1r3S_A"
      },
      "execution_count": 26,
      "outputs": []
    },
    {
      "cell_type": "code",
      "source": [
        "for token in tokens:\n",
        "  print(token + \">>>\" + stemmer.stem(token))"
      ],
      "metadata": {
        "colab": {
          "base_uri": "https://localhost:8080/"
        },
        "id": "ZT_r4P4G3XoG",
        "outputId": "099cd986-ef00-483b-caf8-4c665f1e067e"
      },
      "execution_count": 27,
      "outputs": [
        {
          "output_type": "stream",
          "name": "stdout",
          "text": [
            "connection>>>connect\n",
            "connection>>>connect\n",
            "connect>>>connect\n",
            "connected>>>connect\n",
            "disconnect>>>disconnect\n",
            "lovely>>>love\n",
            "friends>>>friend\n",
            "did>>>did\n"
          ]
        }
      ]
    },
    {
      "cell_type": "code",
      "source": [
        "from nltk.stem.lancaster import *"
      ],
      "metadata": {
        "id": "9JWBWlwH3mAT"
      },
      "execution_count": 28,
      "outputs": []
    },
    {
      "cell_type": "code",
      "source": [
        "lancaster = LancasterStemmer()"
      ],
      "metadata": {
        "id": "fuUN-r5s4S1m"
      },
      "execution_count": 29,
      "outputs": []
    },
    {
      "cell_type": "code",
      "source": [
        "for token in tokens:\n",
        "  print(token + \">>>\" + lancaster.stem(token))\n",
        "  print(token + \">>>\" + stemmer.stem(token))\n",
        "  print(\"\\n\")"
      ],
      "metadata": {
        "id": "C2NuhqJI4qNW",
        "outputId": "5e2433e1-b70d-416e-a045-f215fe865d39",
        "colab": {
          "base_uri": "https://localhost:8080/"
        }
      },
      "execution_count": 30,
      "outputs": [
        {
          "output_type": "stream",
          "name": "stdout",
          "text": [
            "connection>>>connect\n",
            "connection>>>connect\n",
            "\n",
            "\n",
            "connection>>>connect\n",
            "connection>>>connect\n",
            "\n",
            "\n",
            "connect>>>connect\n",
            "connect>>>connect\n",
            "\n",
            "\n",
            "connected>>>connect\n",
            "connected>>>connect\n",
            "\n",
            "\n",
            "disconnect>>>disconnect\n",
            "disconnect>>>disconnect\n",
            "\n",
            "\n",
            "lovely>>>lov\n",
            "lovely>>>love\n",
            "\n",
            "\n",
            "friends>>>friend\n",
            "friends>>>friend\n",
            "\n",
            "\n",
            "did>>>did\n",
            "did>>>did\n",
            "\n",
            "\n"
          ]
        }
      ]
    },
    {
      "cell_type": "code",
      "source": [],
      "metadata": {
        "id": "1NS9n3ds4yJn"
      },
      "execution_count": null,
      "outputs": []
    }
  ]
}