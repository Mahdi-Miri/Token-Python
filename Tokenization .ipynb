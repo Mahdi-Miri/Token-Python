{
  "nbformat": 4,
  "nbformat_minor": 0,
  "metadata": {
    "colab": {
      "provenance": [],
      "authorship_tag": "ABX9TyME8AdX1q53NIh1NJouKV26",
      "include_colab_link": true
    },
    "kernelspec": {
      "name": "python3",
      "display_name": "Python 3"
    },
    "language_info": {
      "name": "python"
    }
  },
  "cells": [
    {
      "cell_type": "markdown",
      "metadata": {
        "id": "view-in-github",
        "colab_type": "text"
      },
      "source": [
        "<a href=\"https://colab.research.google.com/github/Mahdi-Miri/Token-Python/blob/main/Tokenization%20.ipynb\" target=\"_parent\"><img src=\"https://colab.research.google.com/assets/colab-badge.svg\" alt=\"Open In Colab\"/></a>"
      ]
    },
    {
      "cell_type": "code",
      "source": [
        "!pip install lorem"
      ],
      "metadata": {
        "id": "j5z4yBgzthaW",
        "outputId": "5c60a54c-bd57-4d9b-8ad8-f972c17b1918",
        "colab": {
          "base_uri": "https://localhost:8080/"
        }
      },
      "execution_count": 5,
      "outputs": [
        {
          "output_type": "stream",
          "name": "stdout",
          "text": [
            "Collecting lorem\n",
            "  Downloading lorem-0.1.1-py3-none-any.whl.metadata (2.3 kB)\n",
            "Downloading lorem-0.1.1-py3-none-any.whl (5.0 kB)\n",
            "Installing collected packages: lorem\n",
            "Successfully installed lorem-0.1.1\n"
          ]
        }
      ]
    },
    {
      "cell_type": "code",
      "execution_count": 6,
      "metadata": {
        "id": "hAyu-NlnqaRp"
      },
      "outputs": [],
      "source": [
        "import nltk\n",
        "import lorem"
      ]
    },
    {
      "cell_type": "code",
      "source": [
        "sample_text = lorem.paragraph()"
      ],
      "metadata": {
        "id": "EcPOB_wUs9Wt"
      },
      "execution_count": 9,
      "outputs": []
    },
    {
      "cell_type": "code",
      "source": [
        "sample_text"
      ],
      "metadata": {
        "id": "lbSuUflRttEI",
        "outputId": "0dbb7509-ea9c-4a24-82a9-da714e7d8835",
        "colab": {
          "base_uri": "https://localhost:8080/",
          "height": 90
        }
      },
      "execution_count": 10,
      "outputs": [
        {
          "output_type": "execute_result",
          "data": {
            "text/plain": [
              "'Sed quisquam quaerat velit. Amet dolorem magnam numquam. Tempora tempora ut porro dolore. Tempora dolorem quiquia sit modi aliquam quaerat quisquam. Labore velit dolorem sit ipsum. Sit velit eius tempora porro. Dolorem non porro ipsum voluptatem labore amet tempora. Numquam velit aliquam dolorem tempora. Dolore porro labore quiquia aliquam amet sit.'"
            ],
            "application/vnd.google.colaboratory.intrinsic+json": {
              "type": "string"
            }
          },
          "metadata": {},
          "execution_count": 10
        }
      ]
    },
    {
      "cell_type": "code",
      "source": [],
      "metadata": {
        "id": "w0ncYhd0tuQJ"
      },
      "execution_count": null,
      "outputs": []
    }
  ]
}