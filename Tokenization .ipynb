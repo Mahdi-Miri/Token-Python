{
  "nbformat": 4,
  "nbformat_minor": 0,
  "metadata": {
    "colab": {
      "provenance": [],
      "authorship_tag": "ABX9TyMqWIOAghZW6ndC7ufusUkl",
      "include_colab_link": true
    },
    "kernelspec": {
      "name": "python3",
      "display_name": "Python 3"
    },
    "language_info": {
      "name": "python"
    }
  },
  "cells": [
    {
      "cell_type": "markdown",
      "metadata": {
        "id": "view-in-github",
        "colab_type": "text"
      },
      "source": [
        "<a href=\"https://colab.research.google.com/github/Mahdi-Miri/Token-Python/blob/main/Tokenization%20.ipynb\" target=\"_parent\"><img src=\"https://colab.research.google.com/assets/colab-badge.svg\" alt=\"Open In Colab\"/></a>"
      ]
    },
    {
      "cell_type": "code",
      "source": [
        "!pip install lorem"
      ],
      "metadata": {
        "colab": {
          "base_uri": "https://localhost:8080/"
        },
        "id": "j5z4yBgzthaW",
        "outputId": "5c60a54c-bd57-4d9b-8ad8-f972c17b1918"
      },
      "execution_count": 5,
      "outputs": [
        {
          "output_type": "stream",
          "name": "stdout",
          "text": [
            "Collecting lorem\n",
            "  Downloading lorem-0.1.1-py3-none-any.whl.metadata (2.3 kB)\n",
            "Downloading lorem-0.1.1-py3-none-any.whl (5.0 kB)\n",
            "Installing collected packages: lorem\n",
            "Successfully installed lorem-0.1.1\n"
          ]
        }
      ]
    },
    {
      "cell_type": "code",
      "execution_count": 6,
      "metadata": {
        "id": "hAyu-NlnqaRp"
      },
      "outputs": [],
      "source": [
        "import nltk\n",
        "import lorem"
      ]
    },
    {
      "cell_type": "code",
      "source": [
        "nltk.download('punkt')\n"
      ],
      "metadata": {
        "id": "wXBGgITTujT4",
        "outputId": "342ecb50-cef4-47b6-9d20-4cff0df6a959",
        "colab": {
          "base_uri": "https://localhost:8080/"
        }
      },
      "execution_count": 13,
      "outputs": [
        {
          "output_type": "stream",
          "name": "stderr",
          "text": [
            "[nltk_data] Downloading package punkt to /root/nltk_data...\n",
            "[nltk_data]   Unzipping tokenizers/punkt.zip.\n"
          ]
        },
        {
          "output_type": "execute_result",
          "data": {
            "text/plain": [
              "True"
            ]
          },
          "metadata": {},
          "execution_count": 13
        }
      ]
    },
    {
      "cell_type": "code",
      "source": [
        "sample_text = lorem.paragraph()"
      ],
      "metadata": {
        "id": "EcPOB_wUs9Wt"
      },
      "execution_count": 9,
      "outputs": []
    },
    {
      "cell_type": "code",
      "source": [
        "sample_text"
      ],
      "metadata": {
        "colab": {
          "base_uri": "https://localhost:8080/",
          "height": 90
        },
        "id": "lbSuUflRttEI",
        "outputId": "0dbb7509-ea9c-4a24-82a9-da714e7d8835"
      },
      "execution_count": 10,
      "outputs": [
        {
          "output_type": "execute_result",
          "data": {
            "text/plain": [
              "'Sed quisquam quaerat velit. Amet dolorem magnam numquam. Tempora tempora ut porro dolore. Tempora dolorem quiquia sit modi aliquam quaerat quisquam. Labore velit dolorem sit ipsum. Sit velit eius tempora porro. Dolorem non porro ipsum voluptatem labore amet tempora. Numquam velit aliquam dolorem tempora. Dolore porro labore quiquia aliquam amet sit.'"
            ],
            "application/vnd.google.colaboratory.intrinsic+json": {
              "type": "string"
            }
          },
          "metadata": {},
          "execution_count": 10
        }
      ]
    },
    {
      "cell_type": "code",
      "source": [
        "sentences = nltk.sent_tokenize(sample_text)"
      ],
      "metadata": {
        "id": "w0ncYhd0tuQJ"
      },
      "execution_count": 14,
      "outputs": []
    },
    {
      "cell_type": "code",
      "source": [
        "sentences"
      ],
      "metadata": {
        "id": "93Z4wfW1uWhr",
        "outputId": "2024c76c-1e57-4ded-9654-0da39c454857",
        "colab": {
          "base_uri": "https://localhost:8080/"
        }
      },
      "execution_count": 15,
      "outputs": [
        {
          "output_type": "execute_result",
          "data": {
            "text/plain": [
              "['Sed quisquam quaerat velit.',\n",
              " 'Amet dolorem magnam numquam.',\n",
              " 'Tempora tempora ut porro dolore.',\n",
              " 'Tempora dolorem quiquia sit modi aliquam quaerat quisquam.',\n",
              " 'Labore velit dolorem sit ipsum.',\n",
              " 'Sit velit eius tempora porro.',\n",
              " 'Dolorem non porro ipsum voluptatem labore amet tempora.',\n",
              " 'Numquam velit aliquam dolorem tempora.',\n",
              " 'Dolore porro labore quiquia aliquam amet sit.']"
            ]
          },
          "metadata": {},
          "execution_count": 15
        }
      ]
    },
    {
      "cell_type": "code",
      "source": [
        "words = nltk.word_tokenize(sample_text)"
      ],
      "metadata": {
        "id": "7JWrq6qUunmw"
      },
      "execution_count": 16,
      "outputs": []
    },
    {
      "cell_type": "code",
      "source": [
        "words"
      ],
      "metadata": {
        "id": "0c4sCsv7vBc8",
        "outputId": "f2a40242-6963-475c-eda4-195e9a99de59",
        "colab": {
          "base_uri": "https://localhost:8080/"
        }
      },
      "execution_count": 17,
      "outputs": [
        {
          "output_type": "execute_result",
          "data": {
            "text/plain": [
              "['Sed',\n",
              " 'quisquam',\n",
              " 'quaerat',\n",
              " 'velit',\n",
              " '.',\n",
              " 'Amet',\n",
              " 'dolorem',\n",
              " 'magnam',\n",
              " 'numquam',\n",
              " '.',\n",
              " 'Tempora',\n",
              " 'tempora',\n",
              " 'ut',\n",
              " 'porro',\n",
              " 'dolore',\n",
              " '.',\n",
              " 'Tempora',\n",
              " 'dolorem',\n",
              " 'quiquia',\n",
              " 'sit',\n",
              " 'modi',\n",
              " 'aliquam',\n",
              " 'quaerat',\n",
              " 'quisquam',\n",
              " '.',\n",
              " 'Labore',\n",
              " 'velit',\n",
              " 'dolorem',\n",
              " 'sit',\n",
              " 'ipsum',\n",
              " '.',\n",
              " 'Sit',\n",
              " 'velit',\n",
              " 'eius',\n",
              " 'tempora',\n",
              " 'porro',\n",
              " '.',\n",
              " 'Dolorem',\n",
              " 'non',\n",
              " 'porro',\n",
              " 'ipsum',\n",
              " 'voluptatem',\n",
              " 'labore',\n",
              " 'amet',\n",
              " 'tempora',\n",
              " '.',\n",
              " 'Numquam',\n",
              " 'velit',\n",
              " 'aliquam',\n",
              " 'dolorem',\n",
              " 'tempora',\n",
              " '.',\n",
              " 'Dolore',\n",
              " 'porro',\n",
              " 'labore',\n",
              " 'quiquia',\n",
              " 'aliquam',\n",
              " 'amet',\n",
              " 'sit',\n",
              " '.']"
            ]
          },
          "metadata": {},
          "execution_count": 17
        }
      ]
    },
    {
      "cell_type": "code",
      "source": [],
      "metadata": {
        "id": "6LN7W9c1vCHd"
      },
      "execution_count": null,
      "outputs": []
    }
  ]
}